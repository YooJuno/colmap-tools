{
 "cells": [
  {
   "cell_type": "code",
   "execution_count": 2,
   "metadata": {},
   "outputs": [],
   "source": [
    "import cv2\n",
    "import os"
   ]
  },
  {
   "cell_type": "code",
   "execution_count": 7,
   "metadata": {},
   "outputs": [
    {
     "name": "stderr",
     "output_type": "stream",
     "text": [
      "OpenCV: Couldn't read video stream from file \"IMG_5608.MOV\"\n"
     ]
    }
   ],
   "source": [
    "# 저장할 이미지 경로\n",
    "output_folder = 'frames'\n",
    "os.makedirs(output_folder, exist_ok=True)\n",
    "\n",
    "# 동영상 파일 경로\n",
    "video_path = 'IMG_5608.MOV'\n",
    "\n",
    "# 비디오 캡처 객체 생성\n",
    "cap = cv2.VideoCapture(video_path)\n",
    "\n",
    "# 프레임 번호 초기화\n",
    "frame_number = 0"
   ]
  },
  {
   "cell_type": "code",
   "execution_count": null,
   "metadata": {},
   "outputs": [],
   "source": []
  },
  {
   "cell_type": "code",
   "execution_count": 6,
   "metadata": {},
   "outputs": [],
   "source": [
    "# 동영상의 프레임을 하나씩 읽어서 이미지로 저장\n",
    "while True:\n",
    "    ret, frame = cap.read()\n",
    "    if not ret:\n",
    "        break\n",
    "\n",
    "    if frame_number%20 == 0:\n",
    "    \n",
    "        # 프레임 저장 (예: frame_0.png, frame_1.png, ...)\n",
    "        frame_filename = os.path.join(output_folder, f'frame_{frame_number}.png')\n",
    "        cv2.imwrite(frame_filename, frame)\n",
    "    \n",
    "    frame_number += 1"
   ]
  },
  {
   "cell_type": "code",
   "execution_count": null,
   "metadata": {},
   "outputs": [],
   "source": [
    "# 캡처 객체 해제\n",
    "cap.release()\n",
    "\n",
    "print(f'Extracted {frame_number} frames to \"{output_folder}\"')"
   ]
  }
 ],
 "metadata": {
  "kernelspec": {
   "display_name": "Python 3",
   "language": "python",
   "name": "python3"
  },
  "language_info": {
   "codemirror_mode": {
    "name": "ipython",
    "version": 3
   },
   "file_extension": ".py",
   "mimetype": "text/x-python",
   "name": "python",
   "nbconvert_exporter": "python",
   "pygments_lexer": "ipython3",
   "version": "3.8.18"
  }
 },
 "nbformat": 4,
 "nbformat_minor": 2
}
